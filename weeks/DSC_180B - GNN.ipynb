{
 "cells": [
  {
   "cell_type": "code",
   "execution_count": 1,
   "metadata": {},
   "outputs": [],
   "source": [
    "import torch\n",
    "import torch_geometric\n",
    "device = torch.device(\"cuda:0\" if torch.cuda.is_available() else \"cpu\")\n",
    "from tqdm.notebook import tqdm\n",
    "import numpy as np"
   ]
  },
  {
   "cell_type": "code",
   "execution_count": 2,
   "metadata": {},
   "outputs": [],
   "source": [
    "import yaml\n",
    "\n",
    "with open('definitions.yml') as file:\n",
    "    # The FullLoader parameter handles the conversion from YAML\n",
    "    # scalar values to Python the dictionary format\n",
    "    definitions = yaml.load(file, Loader=yaml.FullLoader)\n",
    "    \n",
    "features = definitions['features']\n",
    "spectators = definitions['spectators']\n",
    "labels = definitions['labels']\n",
    "\n",
    "nfeatures = definitions['nfeatures']\n",
    "nspectators = definitions['nspectators']\n",
    "nlabels = definitions['nlabels']\n",
    "ntracks = definitions['ntracks']"
   ]
  },
  {
   "cell_type": "code",
   "execution_count": 3,
   "metadata": {},
   "outputs": [
    {
     "data": {
      "text/plain": [
       "['label_QCD_b',\n",
       " 'label_QCD_bb',\n",
       " 'label_QCD_c',\n",
       " 'label_QCD_cc',\n",
       " 'label_QCD_others',\n",
       " 'sample_isQCD',\n",
       " 'label_H_bb']"
      ]
     },
     "execution_count": 3,
     "metadata": {},
     "output_type": "execute_result"
    }
   ],
   "source": [
    "labels"
   ]
  },
  {
   "cell_type": "code",
   "execution_count": 4,
   "metadata": {},
   "outputs": [
    {
     "name": "stdout",
     "output_type": "stream",
     "text": [
      "1000\n"
     ]
    },
    {
     "data": {
      "application/vnd.jupyter.widget-view+json": {
       "model_id": "7ed08a55846248cba9a178dbc0850e0d",
       "version_major": 2,
       "version_minor": 0
      },
      "text/plain": [
       "HBox(children=(HTML(value=''), FloatProgress(value=0.0, max=1000.0), HTML(value='')))"
      ]
     },
     "metadata": {},
     "output_type": "display_data"
    },
    {
     "name": "stdout",
     "output_type": "stream",
     "text": [
      "\n"
     ]
    }
   ],
   "source": [
    "from GraphDataset import GraphDataset\n",
    "#file_names = ['root://eospublic.cern.ch//eos/opendata/cms/datascience/HiggsToBBNtupleProducerTool/HiggsToBBNTuple_HiggsToBB_QCD_RunII_13TeV_MC/train/ntuple_merged_10.root']\n",
    "file_names = ['/teams/DSC180A_FA20_A00/b06particlephysics/train/ntuple_merged_10.root']\n",
    "\n",
    "graph_dataset = GraphDataset('gdata_train', features, labels, spectators, n_events=1000, n_events_merge=1, \n",
    "                             file_names=file_names)\n",
    "\n",
    "# let's make use of the multiclassification\n",
    "# this method will make sure that our data is labeled by a one-hot encoding 6d vector (for the 6 classes)\n",
    "graph_dataset.process()\n"
   ]
  },
  {
   "cell_type": "markdown",
   "metadata": {},
   "source": [
    "# Understanding the data:"
   ]
  },
  {
   "cell_type": "code",
   "execution_count": 5,
   "metadata": {},
   "outputs": [
    {
     "data": {
      "text/plain": [
       "GraphDataset(917)"
      ]
     },
     "execution_count": 5,
     "metadata": {},
     "output_type": "execute_result"
    }
   ],
   "source": [
    "graph_dataset   # contains 917 graphs (jets)"
   ]
  },
  {
   "cell_type": "code",
   "execution_count": 6,
   "metadata": {},
   "outputs": [
    {
     "data": {
      "text/plain": [
       "[Data(edge_index=[2, 462], u=[1, 2], x=[22, 48], y=[1, 6])]"
      ]
     },
     "execution_count": 6,
     "metadata": {},
     "output_type": "execute_result"
    }
   ],
   "source": [
    "graph_dataset[0]         # let's explore the first jet\n",
    "\n",
    "# edge_index: it contains a tensor of edge connections that connects 462 tracks together (462=22*21 .. as we assume all 22 tracks of this jet are connected to each other)\n",
    "# u : just a global feature don't worry about it now\n",
    "# x : it has 13 tracks, each track has 48 features\n",
    "# y : it is a (1,6) tensor that is a one-hot encoder specefying the class of the jet"
   ]
  },
  {
   "cell_type": "code",
   "execution_count": 7,
   "metadata": {},
   "outputs": [
    {
     "data": {
      "text/plain": [
       "tensor([[ 0,  0,  0,  0,  0,  0,  0,  0,  0,  0,  0,  0,  0,  0,  0,  0,  0,  0,\n",
       "          0,  0,  0,  1,  1,  1,  1,  1,  1,  1,  1,  1,  1,  1,  1,  1,  1,  1,\n",
       "          1,  1,  1,  1,  1,  1,  2,  2,  2,  2,  2,  2,  2,  2,  2,  2,  2,  2,\n",
       "          2,  2,  2,  2,  2,  2,  2,  2,  2,  3,  3,  3,  3,  3,  3,  3,  3,  3,\n",
       "          3,  3,  3,  3,  3,  3,  3,  3,  3,  3,  3,  3,  4,  4,  4,  4,  4,  4,\n",
       "          4,  4,  4,  4,  4,  4,  4,  4,  4,  4,  4,  4,  4,  4,  4,  5,  5,  5,\n",
       "          5,  5,  5,  5,  5,  5,  5,  5,  5,  5,  5,  5,  5,  5,  5,  5,  5,  5,\n",
       "          6,  6,  6,  6,  6,  6,  6,  6,  6,  6,  6,  6,  6,  6,  6,  6,  6,  6,\n",
       "          6,  6,  6,  7,  7,  7,  7,  7,  7,  7,  7,  7,  7,  7,  7,  7,  7,  7,\n",
       "          7,  7,  7,  7,  7,  7,  8,  8,  8,  8,  8,  8,  8,  8,  8,  8,  8,  8,\n",
       "          8,  8,  8,  8,  8,  8,  8,  8,  8,  9,  9,  9,  9,  9,  9,  9,  9,  9,\n",
       "          9,  9,  9,  9,  9,  9,  9,  9,  9,  9,  9,  9, 10, 10, 10, 10, 10, 10,\n",
       "         10, 10, 10, 10, 10, 10, 10, 10, 10, 10, 10, 10, 10, 10, 10, 11, 11, 11,\n",
       "         11, 11, 11, 11, 11, 11, 11, 11, 11, 11, 11, 11, 11, 11, 11, 11, 11, 11,\n",
       "         12, 12, 12, 12, 12, 12, 12, 12, 12, 12, 12, 12, 12, 12, 12, 12, 12, 12,\n",
       "         12, 12, 12, 13, 13, 13, 13, 13, 13, 13, 13, 13, 13, 13, 13, 13, 13, 13,\n",
       "         13, 13, 13, 13, 13, 13, 14, 14, 14, 14, 14, 14, 14, 14, 14, 14, 14, 14,\n",
       "         14, 14, 14, 14, 14, 14, 14, 14, 14, 15, 15, 15, 15, 15, 15, 15, 15, 15,\n",
       "         15, 15, 15, 15, 15, 15, 15, 15, 15, 15, 15, 15, 16, 16, 16, 16, 16, 16,\n",
       "         16, 16, 16, 16, 16, 16, 16, 16, 16, 16, 16, 16, 16, 16, 16, 17, 17, 17,\n",
       "         17, 17, 17, 17, 17, 17, 17, 17, 17, 17, 17, 17, 17, 17, 17, 17, 17, 17,\n",
       "         18, 18, 18, 18, 18, 18, 18, 18, 18, 18, 18, 18, 18, 18, 18, 18, 18, 18,\n",
       "         18, 18, 18, 19, 19, 19, 19, 19, 19, 19, 19, 19, 19, 19, 19, 19, 19, 19,\n",
       "         19, 19, 19, 19, 19, 19, 20, 20, 20, 20, 20, 20, 20, 20, 20, 20, 20, 20,\n",
       "         20, 20, 20, 20, 20, 20, 20, 20, 20, 21, 21, 21, 21, 21, 21, 21, 21, 21,\n",
       "         21, 21, 21, 21, 21, 21, 21, 21, 21, 21, 21, 21],\n",
       "        [ 1,  2,  3,  4,  5,  6,  7,  8,  9, 10, 11, 12, 13, 14, 15, 16, 17, 18,\n",
       "         19, 20, 21,  0,  2,  3,  4,  5,  6,  7,  8,  9, 10, 11, 12, 13, 14, 15,\n",
       "         16, 17, 18, 19, 20, 21,  0,  1,  3,  4,  5,  6,  7,  8,  9, 10, 11, 12,\n",
       "         13, 14, 15, 16, 17, 18, 19, 20, 21,  0,  1,  2,  4,  5,  6,  7,  8,  9,\n",
       "         10, 11, 12, 13, 14, 15, 16, 17, 18, 19, 20, 21,  0,  1,  2,  3,  5,  6,\n",
       "          7,  8,  9, 10, 11, 12, 13, 14, 15, 16, 17, 18, 19, 20, 21,  0,  1,  2,\n",
       "          3,  4,  6,  7,  8,  9, 10, 11, 12, 13, 14, 15, 16, 17, 18, 19, 20, 21,\n",
       "          0,  1,  2,  3,  4,  5,  7,  8,  9, 10, 11, 12, 13, 14, 15, 16, 17, 18,\n",
       "         19, 20, 21,  0,  1,  2,  3,  4,  5,  6,  8,  9, 10, 11, 12, 13, 14, 15,\n",
       "         16, 17, 18, 19, 20, 21,  0,  1,  2,  3,  4,  5,  6,  7,  9, 10, 11, 12,\n",
       "         13, 14, 15, 16, 17, 18, 19, 20, 21,  0,  1,  2,  3,  4,  5,  6,  7,  8,\n",
       "         10, 11, 12, 13, 14, 15, 16, 17, 18, 19, 20, 21,  0,  1,  2,  3,  4,  5,\n",
       "          6,  7,  8,  9, 11, 12, 13, 14, 15, 16, 17, 18, 19, 20, 21,  0,  1,  2,\n",
       "          3,  4,  5,  6,  7,  8,  9, 10, 12, 13, 14, 15, 16, 17, 18, 19, 20, 21,\n",
       "          0,  1,  2,  3,  4,  5,  6,  7,  8,  9, 10, 11, 13, 14, 15, 16, 17, 18,\n",
       "         19, 20, 21,  0,  1,  2,  3,  4,  5,  6,  7,  8,  9, 10, 11, 12, 14, 15,\n",
       "         16, 17, 18, 19, 20, 21,  0,  1,  2,  3,  4,  5,  6,  7,  8,  9, 10, 11,\n",
       "         12, 13, 15, 16, 17, 18, 19, 20, 21,  0,  1,  2,  3,  4,  5,  6,  7,  8,\n",
       "          9, 10, 11, 12, 13, 14, 16, 17, 18, 19, 20, 21,  0,  1,  2,  3,  4,  5,\n",
       "          6,  7,  8,  9, 10, 11, 12, 13, 14, 15, 17, 18, 19, 20, 21,  0,  1,  2,\n",
       "          3,  4,  5,  6,  7,  8,  9, 10, 11, 12, 13, 14, 15, 16, 18, 19, 20, 21,\n",
       "          0,  1,  2,  3,  4,  5,  6,  7,  8,  9, 10, 11, 12, 13, 14, 15, 16, 17,\n",
       "         19, 20, 21,  0,  1,  2,  3,  4,  5,  6,  7,  8,  9, 10, 11, 12, 13, 14,\n",
       "         15, 16, 17, 18, 20, 21,  0,  1,  2,  3,  4,  5,  6,  7,  8,  9, 10, 11,\n",
       "         12, 13, 14, 15, 16, 17, 18, 19, 21,  0,  1,  2,  3,  4,  5,  6,  7,  8,\n",
       "          9, 10, 11, 12, 13, 14, 15, 16, 17, 18, 19, 20]])"
      ]
     },
     "execution_count": 7,
     "metadata": {},
     "output_type": "execute_result"
    }
   ],
   "source": [
    "# To better understand the edge_index:\n",
    "graph_dataset[0][0].edge_index\n",
    "\n",
    "# this is an edge_index tensor which is always of the form of 2 lists (call them listA and listB)\n",
    "# each element in listA represents a node.. 0 means 1st node, 21 means 22nd node (same for listB)\n",
    "# the idea is that: there is a connection between listA[i] and listB[i] for all i\n",
    "# as you can see from the first 3 elements: the 1st node is connected to the 2nd,3rd,4th.. (but not to itself, so listB doesnt have a 0 as first element)\n",
    "# as you can see from the last 3 elements: the 22nd node is connected to the 19th,20th,21st.. (but not to itself, so listB doesnt have a 21 as last element)"
   ]
  },
  {
   "cell_type": "code",
   "execution_count": 8,
   "metadata": {},
   "outputs": [
    {
     "data": {
      "text/plain": [
       "tensor([[0, 0, 0, 0, 1, 0]])"
      ]
     },
     "execution_count": 8,
     "metadata": {},
     "output_type": "execute_result"
    }
   ],
   "source": [
    "graph_dataset[0][0].y     # this jet is from one class"
   ]
  },
  {
   "cell_type": "code",
   "execution_count": 9,
   "metadata": {},
   "outputs": [
    {
     "data": {
      "text/plain": [
       "tensor([[0, 0, 0, 1, 0, 0]])"
      ]
     },
     "execution_count": 9,
     "metadata": {},
     "output_type": "execute_result"
    }
   ],
   "source": [
    "graph_dataset[1][0].y     # this jet is from the other class"
   ]
  },
  {
   "cell_type": "markdown",
   "metadata": {},
   "source": [
    "# Understanding a pytorch \"Dataloader\":"
   ]
  },
  {
   "cell_type": "code",
   "execution_count": 10,
   "metadata": {},
   "outputs": [],
   "source": [
    "### a dataloader is usually the datatype you want to deal with in pytorch..\n",
    "### it helps you to iterate over your data in an orderly manner"
   ]
  },
  {
   "cell_type": "code",
   "execution_count": 11,
   "metadata": {},
   "outputs": [],
   "source": [
    "from torch_geometric.data import Data, DataListLoader, Batch\n",
    "from torch.utils.data import random_split\n",
    "\n",
    "def collate(items):\n",
    "    l = sum(items, [])\n",
    "    return Batch.from_data_list(l)\n",
    "\n",
    "torch.manual_seed(0)\n",
    "valid_frac = 0.20\n",
    "full_length = len(graph_dataset)\n",
    "valid_num = int(valid_frac*full_length)\n",
    "batch_size = 32\n",
    "\n",
    "train_dataset, valid_dataset = random_split(graph_dataset, [full_length-valid_num,valid_num])\n",
    "\n",
    "train_loader = DataListLoader(graph_dataset, batch_size=batch_size, pin_memory=True, shuffle=True)\n",
    "train_loader.collate_fn = collate\n",
    "valid_loader = DataListLoader(valid_dataset, batch_size=batch_size, pin_memory=True, shuffle=False)\n",
    "valid_loader.collate_fn = collate\n",
    "\n",
    "train_samples = len(train_dataset)\n",
    "valid_samples = len(valid_dataset)"
   ]
  },
  {
   "cell_type": "code",
   "execution_count": 12,
   "metadata": {},
   "outputs": [
    {
     "name": "stdout",
     "output_type": "stream",
     "text": [
      "734\n",
      "183\n"
     ]
    }
   ],
   "source": [
    "print(train_samples)     # we divide the 1000 graphs as 80%->train and 20%->valid\n",
    "print(valid_samples)"
   ]
  },
  {
   "cell_type": "code",
   "execution_count": 13,
   "metadata": {},
   "outputs": [
    {
     "data": {
      "text/plain": [
       "torch_geometric.data.dataloader.DataListLoader"
      ]
     },
     "execution_count": 13,
     "metadata": {},
     "output_type": "execute_result"
    }
   ],
   "source": [
    "# notice now this is the type of the data object that we will feed to the neural network\n",
    "type(train_loader)"
   ]
  },
  {
   "cell_type": "code",
   "execution_count": 14,
   "metadata": {},
   "outputs": [
    {
     "data": {
      "text/plain": [
       "Batch(batch=[888], edge_index=[2, 28230], u=[32, 2], x=[888, 48], y=[32, 6])"
      ]
     },
     "execution_count": 14,
     "metadata": {},
     "output_type": "execute_result"
    }
   ],
   "source": [
    "# this object is iterable as follows\n",
    "next(iter(train_loader))                # each time you run this cell you will get a new batch\n",
    "                                        # each batch contains 32 jets\n",
    "                                        # 888 is the number of tracks in those 32 jets combined"
   ]
  },
  {
   "cell_type": "code",
   "execution_count": 15,
   "metadata": {},
   "outputs": [
    {
     "name": "stdout",
     "output_type": "stream",
     "text": [
      "Batch(batch=[972], edge_index=[2, 33834], u=[32, 2], x=[972, 48], y=[32, 6])\n"
     ]
    }
   ],
   "source": [
    "# you can also iterate over this object via a for loop (this is how we do the training) \n",
    "# each batch contains many jets.. for ex: first batch contains 32 jets\n",
    "\n",
    "for batch in train_loader:\n",
    "    print(batch)\n",
    "    break"
   ]
  },
  {
   "cell_type": "code",
   "execution_count": 16,
   "metadata": {},
   "outputs": [
    {
     "name": "stdout",
     "output_type": "stream",
     "text": [
      "tensor([[0, 0, 1, 0, 0, 0],\n",
      "        [0, 1, 0, 0, 0, 0],\n",
      "        [0, 0, 0, 0, 1, 0],\n",
      "        [0, 0, 0, 0, 1, 0],\n",
      "        [0, 0, 0, 0, 1, 0],\n",
      "        [0, 0, 0, 0, 1, 0],\n",
      "        [0, 0, 0, 0, 1, 0],\n",
      "        [0, 0, 0, 0, 1, 0],\n",
      "        [0, 0, 0, 0, 1, 0],\n",
      "        [0, 0, 0, 0, 1, 0],\n",
      "        [0, 0, 0, 0, 0, 1],\n",
      "        [0, 0, 0, 0, 1, 0],\n",
      "        [0, 0, 0, 0, 0, 1],\n",
      "        [0, 0, 0, 0, 1, 0],\n",
      "        [0, 0, 0, 0, 1, 0],\n",
      "        [0, 0, 0, 0, 1, 0],\n",
      "        [0, 0, 0, 0, 1, 0],\n",
      "        [0, 0, 0, 0, 1, 0],\n",
      "        [0, 0, 0, 0, 1, 0],\n",
      "        [0, 0, 0, 0, 1, 0],\n",
      "        [0, 0, 0, 0, 1, 0],\n",
      "        [0, 0, 0, 0, 1, 0],\n",
      "        [0, 0, 0, 0, 1, 0],\n",
      "        [0, 0, 0, 0, 0, 1],\n",
      "        [0, 0, 0, 0, 1, 0],\n",
      "        [0, 0, 0, 0, 1, 0],\n",
      "        [0, 0, 0, 0, 1, 0],\n",
      "        [0, 0, 0, 0, 1, 0],\n",
      "        [0, 0, 1, 0, 0, 0],\n",
      "        [1, 0, 0, 0, 0, 0],\n",
      "        [0, 0, 0, 0, 1, 0],\n",
      "        [0, 0, 0, 0, 1, 0]])\n",
      "torch.Size([32, 6])\n"
     ]
    }
   ],
   "source": [
    "# you can access what is inside the iterator as follows.. here i am accessing the y (label) for the 32 jets \n",
    "for batch in train_loader:\n",
    "    print(batch.y)\n",
    "    print(batch.y.shape)\n",
    "    break"
   ]
  },
  {
   "cell_type": "code",
   "execution_count": 17,
   "metadata": {},
   "outputs": [
    {
     "name": "stdout",
     "output_type": "stream",
     "text": [
      "batch #: 0 --- Batch(batch=[779], edge_index=[2, 20772], u=[32, 2], x=[779, 48], y=[32, 6])\n"
     ]
    }
   ],
   "source": [
    "# you can also use an \"enumerate\" to retrieve a batch index along with the batch\n",
    "t = enumerate(train_loader)\n",
    "for i,batch in t:\n",
    "    print('batch #:', i, '---', batch)\n",
    "    break"
   ]
  },
  {
   "cell_type": "markdown",
   "metadata": {},
   "source": [
    "# Model:"
   ]
  },
  {
   "cell_type": "code",
   "execution_count": 165,
   "metadata": {},
   "outputs": [],
   "source": [
    "import torch.nn as nn\n",
    "import torch.nn.functional as F\n",
    "import torch_geometric.transforms as T\n",
    "from torch_geometric.nn import EdgeConv, global_mean_pool\n",
    "from torch.nn import Sequential as Seq, Linear as Lin, ReLU, BatchNorm1d\n",
    "from torch_scatter import scatter_mean\n",
    "from torch_geometric.nn import MetaLayer\n",
    "\n",
    "class EdgeBlock(torch.nn.Module):\n",
    "    def __init__(self):\n",
    "        super(EdgeBlock, self).__init__()\n",
    "        #A sequential container. Modules will be added to it in the order they are passed in the constructor. \n",
    "        #Alternatively, an ordered dict of modules can also be passed in.\n",
    "        \n",
    "        #Applies a linear transformation to the incoming data: y = xA^T + by=xA^T+b\n",
    "        self.edge_mlp = Seq(Lin(48*2, 128), # changed 2 to 6\n",
    "                            BatchNorm1d(128),\n",
    "                            ReLU(),\n",
    "                            Lin(128, 128))\n",
    "\n",
    "    def forward(self, src, dest, edge_attr, u, batch):\n",
    "        out = torch.cat([src, dest], 1)\n",
    "        return self.edge_mlp(out)\n",
    "\n",
    "class NodeBlock(torch.nn.Module):\n",
    "    def __init__(self):\n",
    "        super(NodeBlock, self).__init__()\n",
    "        self.node_mlp_1 = Seq(Lin(48+128, 128), \n",
    "                              BatchNorm1d(128),\n",
    "                              ReLU(), \n",
    "                              Lin(128, 128))\n",
    "        self.node_mlp_2 = Seq(Lin(48+128, 128), \n",
    "                              BatchNorm1d(128),\n",
    "                              ReLU(), \n",
    "                              Lin(128, 128))\n",
    "\n",
    "    def forward(self, x, edge_index, edge_attr, u, batch):\n",
    "        row, col = edge_index\n",
    "        out = torch.cat([x[row], edge_attr], dim=1)\n",
    "        out = self.node_mlp_1(out)\n",
    "        out = scatter_mean(out, col, dim=0, dim_size=x.size(0))\n",
    "        out = torch.cat([x, out], dim=1)\n",
    "        return self.node_mlp_2(out)\n",
    "\n",
    "    \n",
    "class GlobalBlock(torch.nn.Module):\n",
    "    def __init__(self):\n",
    "        super(GlobalBlock, self).__init__()\n",
    "        self.global_mlp = Seq(Lin(128, 128),                               \n",
    "                              BatchNorm1d(128),\n",
    "                              ReLU(), \n",
    "                              Lin(128, 6)) #changed to 6 from 2\n",
    "\n",
    "    def forward(self, x, edge_index, edge_attr, u, batch):\n",
    "        out = scatter_mean(x, batch, dim=0)\n",
    "        return self.global_mlp(out)\n",
    "\n",
    "\n",
    "class InteractionNetwork(torch.nn.Module):\n",
    "    def __init__(self):\n",
    "        super(InteractionNetwork, self).__init__()\n",
    "        self.interactionnetwork = MetaLayer(EdgeBlock(), NodeBlock(), GlobalBlock())\n",
    "        self.bn = BatchNorm1d(48)\n",
    "        \n",
    "    def forward(self, x, edge_index, batch):\n",
    "        \n",
    "        x = self.bn(x)\n",
    "        x, edge_attr, u = self.interactionnetwork(x, edge_index, None, None, batch)\n",
    "        return u\n",
    "    \n",
    "model = InteractionNetwork().to(device)\n",
    "optimizer = torch.optim.Adam(model.parameters(), lr = 1e-4)"
   ]
  },
  {
   "cell_type": "code",
   "execution_count": 166,
   "metadata": {},
   "outputs": [
    {
     "data": {
      "text/plain": [
       "InteractionNetwork(\n",
       "  (interactionnetwork): MetaLayer(\n",
       "      edge_model=EdgeBlock(\n",
       "    (edge_mlp): Sequential(\n",
       "      (0): Linear(in_features=96, out_features=128, bias=True)\n",
       "      (1): BatchNorm1d(128, eps=1e-05, momentum=0.1, affine=True, track_running_stats=True)\n",
       "      (2): ReLU()\n",
       "      (3): Linear(in_features=128, out_features=128, bias=True)\n",
       "    )\n",
       "  ),\n",
       "      node_model=NodeBlock(\n",
       "    (node_mlp_1): Sequential(\n",
       "      (0): Linear(in_features=176, out_features=128, bias=True)\n",
       "      (1): BatchNorm1d(128, eps=1e-05, momentum=0.1, affine=True, track_running_stats=True)\n",
       "      (2): ReLU()\n",
       "      (3): Linear(in_features=128, out_features=128, bias=True)\n",
       "    )\n",
       "    (node_mlp_2): Sequential(\n",
       "      (0): Linear(in_features=176, out_features=128, bias=True)\n",
       "      (1): BatchNorm1d(128, eps=1e-05, momentum=0.1, affine=True, track_running_stats=True)\n",
       "      (2): ReLU()\n",
       "      (3): Linear(in_features=128, out_features=128, bias=True)\n",
       "    )\n",
       "  ),\n",
       "      global_model=GlobalBlock(\n",
       "    (global_mlp): Sequential(\n",
       "      (0): Linear(in_features=128, out_features=128, bias=True)\n",
       "      (1): BatchNorm1d(128, eps=1e-05, momentum=0.1, affine=True, track_running_stats=True)\n",
       "      (2): ReLU()\n",
       "      (3): Linear(in_features=128, out_features=6, bias=True)\n",
       "    )\n",
       "  )\n",
       "  )\n",
       "  (bn): BatchNorm1d(48, eps=1e-05, momentum=0.1, affine=True, track_running_stats=True)\n",
       ")"
      ]
     },
     "execution_count": 166,
     "metadata": {},
     "output_type": "execute_result"
    }
   ],
   "source": [
    "model"
   ]
  },
  {
   "cell_type": "code",
   "execution_count": 167,
   "metadata": {},
   "outputs": [],
   "source": [
    "# test a forward pass of the model\n",
    "# NOTE: this is the correct way to predict anything using our model\n",
    "# you need to pass 3 things to the model (x, edge_index, batch)\n",
    "for i, data in enumerate(train_loader):\n",
    "    pred = model(data.x, data.edge_index, data.batch)\n",
    "    break"
   ]
  },
  {
   "cell_type": "code",
   "execution_count": 168,
   "metadata": {},
   "outputs": [
    {
     "data": {
      "text/plain": [
       "torch.Size([32, 6])"
      ]
     },
     "execution_count": 168,
     "metadata": {},
     "output_type": "execute_result"
    }
   ],
   "source": [
    "pred.shape       # as expected we have a 6d one hot encoding vector for each of the 32 jets\n",
    "                 # this is basically the output of the network that should be compared to data.y to compute the loss"
   ]
  },
  {
   "cell_type": "code",
   "execution_count": 169,
   "metadata": {},
   "outputs": [
    {
     "data": {
      "text/plain": [
       "torch.Size([32, 6])"
      ]
     },
     "execution_count": 169,
     "metadata": {},
     "output_type": "execute_result"
    }
   ],
   "source": [
    "data.y.shape"
   ]
  },
  {
   "cell_type": "markdown",
   "metadata": {},
   "source": [
    "# Let's do the training:"
   ]
  },
  {
   "cell_type": "code",
   "execution_count": 170,
   "metadata": {},
   "outputs": [],
   "source": [
    "@torch.no_grad()\n",
    "def test(model,loader,total,batch_size,leave=False):\n",
    "    model.eval()\n",
    "    \n",
    "    xentropy = nn.CrossEntropyLoss(reduction='mean')\n",
    "\n",
    "    sum_loss = 0.\n",
    "    t = tqdm(enumerate(loader),total=total/batch_size,leave=leave)\n",
    "    for i,data in t:\n",
    "        data = data.to(device)\n",
    "        y = torch.argmax(data.y,dim=1)\n",
    "        batch_output = model(data.x, data.edge_index, data.batch)\n",
    "        batch_loss_item = xentropy(batch_output, y).item()\n",
    "        sum_loss += batch_loss_item\n",
    "        t.set_description(\"loss = %.5f\" % (batch_loss_item))\n",
    "        t.refresh() # to show immediately the update\n",
    "\n",
    "    return sum_loss/(i+1)\n",
    "\n",
    "def train(model, optimizer, loader, total, batch_size,leave=False):\n",
    "    model.train()\n",
    "    \n",
    "    xentropy = nn.CrossEntropyLoss(reduction='mean')\n",
    "\n",
    "    sum_loss = 0.\n",
    "    t = tqdm(enumerate(loader),total=total/batch_size,leave=leave)\n",
    "    for i,data in t:\n",
    "        data = data.to(device)\n",
    "        y = torch.argmax(data.y,dim=1)\n",
    "        optimizer.zero_grad()\n",
    "        batch_output = model(data.x, data.edge_index, data.batch)\n",
    "        batch_loss = xentropy(batch_output, y)\n",
    "        batch_loss.backward()\n",
    "        batch_loss_item = batch_loss.item()\n",
    "        t.set_description(\"loss = %.5f\" % batch_loss_item)\n",
    "        t.refresh() # to show immediately the update\n",
    "        sum_loss += batch_loss_item\n",
    "        optimizer.step()\n",
    "    \n",
    "    return sum_loss/(i+1)"
   ]
  },
  {
   "cell_type": "code",
   "execution_count": 171,
   "metadata": {},
   "outputs": [
    {
     "data": {
      "text/plain": [
       "['label_QCD_b',\n",
       " 'label_QCD_bb',\n",
       " 'label_QCD_c',\n",
       " 'label_QCD_cc',\n",
       " 'label_QCD_others',\n",
       " 'sample_isQCD',\n",
       " 'label_H_bb']"
      ]
     },
     "execution_count": 171,
     "metadata": {},
     "output_type": "execute_result"
    }
   ],
   "source": [
    "train_loader.dataset.labels"
   ]
  },
  {
   "cell_type": "code",
   "execution_count": 172,
   "metadata": {},
   "outputs": [
    {
     "data": {
      "text/plain": [
       "1889"
      ]
     },
     "execution_count": 172,
     "metadata": {},
     "output_type": "execute_result"
    }
   ],
   "source": [
    "test_samples"
   ]
  },
  {
   "cell_type": "code",
   "execution_count": 173,
   "metadata": {},
   "outputs": [
    {
     "data": {
      "text/plain": [
       "734"
      ]
     },
     "execution_count": 173,
     "metadata": {},
     "output_type": "execute_result"
    }
   ],
   "source": [
    "full_length-valid_num"
   ]
  },
  {
   "cell_type": "code",
   "execution_count": 174,
   "metadata": {},
   "outputs": [
    {
     "data": {
      "application/vnd.jupyter.widget-view+json": {
       "model_id": "e2dc3964d4a74bbfa6d49f3258c32c9d",
       "version_major": 2,
       "version_minor": 0
      },
      "text/plain": [
       "HBox(children=(HTML(value=''), FloatProgress(value=0.0, max=1.0), HTML(value='')))"
      ]
     },
     "metadata": {},
     "output_type": "display_data"
    },
    {
     "data": {
      "application/vnd.jupyter.widget-view+json": {
       "model_id": "f3a843dbb90b4ee18d36b00d3e7c1472",
       "version_major": 2,
       "version_minor": 0
      },
      "text/plain": [
       "HBox(children=(HTML(value=''), FloatProgress(value=0.0, max=22.9375), HTML(value='')))"
      ]
     },
     "metadata": {},
     "output_type": "display_data"
    },
    {
     "name": "stdout",
     "output_type": "stream",
     "text": [
      "\n"
     ]
    },
    {
     "data": {
      "application/vnd.jupyter.widget-view+json": {
       "model_id": "ee0730901fb74bcda4cc9861b4d920ba",
       "version_major": 2,
       "version_minor": 0
      },
      "text/plain": [
       "HBox(children=(HTML(value=''), FloatProgress(value=0.0, max=5.71875), HTML(value='')))"
      ]
     },
     "metadata": {},
     "output_type": "display_data"
    },
    {
     "name": "stdout",
     "output_type": "stream",
     "text": [
      "\n",
      "Epoch: 00, Training Loss:   1.6717\n",
      "           Validation Loss: 1.6416\n",
      "New best model saved to: interactionnetwork_best.pth\n",
      "\n"
     ]
    }
   ],
   "source": [
    "import os.path as osp\n",
    "\n",
    "n_epochs = 1\n",
    "stale_epochs = 0\n",
    "best_valid_loss = 99999\n",
    "patience = 5\n",
    "t = tqdm(range(0, n_epochs))\n",
    "\n",
    "for epoch in t:\n",
    "    loss = train(model, optimizer, train_loader, train_samples, batch_size,leave=bool(epoch==n_epochs-1))\n",
    "    valid_loss = test(model, valid_loader, valid_samples, batch_size,leave=bool(epoch==n_epochs-1))\n",
    "    print('Epoch: {:02d}, Training Loss:   {:.4f}'.format(epoch, loss))\n",
    "    print('           Validation Loss: {:.4f}'.format(valid_loss))\n",
    "\n",
    "    if valid_loss < best_valid_loss:\n",
    "        best_valid_loss = valid_loss\n",
    "        modpath = osp.join('interactionnetwork_best.pth')\n",
    "        print('New best model saved to:',modpath)\n",
    "        torch.save(model.state_dict(),modpath)\n",
    "        stale_epochs = 0\n",
    "    else:\n",
    "        print('Stale epoch')\n",
    "        stale_epochs += 1\n",
    "    if stale_epochs >= patience:\n",
    "        print('Early stopping after %i stale epochs'%patience)\n",
    "        break"
   ]
  },
  {
   "cell_type": "markdown",
   "metadata": {},
   "source": [
    "# Let's test the training using some test_data:"
   ]
  },
  {
   "cell_type": "markdown",
   "metadata": {},
   "source": [
    "### (1) First get the test data"
   ]
  },
  {
   "cell_type": "code",
   "execution_count": 217,
   "metadata": {},
   "outputs": [
    {
     "name": "stdout",
     "output_type": "stream",
     "text": [
      "1000\n"
     ]
    },
    {
     "data": {
      "application/vnd.jupyter.widget-view+json": {
       "model_id": "82258a3bc20442c9b42c457a9ee2800e",
       "version_major": 2,
       "version_minor": 0
      },
      "text/plain": [
       "HBox(children=(HTML(value=''), FloatProgress(value=0.0, max=1000.0), HTML(value='')))"
      ]
     },
     "metadata": {},
     "output_type": "display_data"
    },
    {
     "name": "stdout",
     "output_type": "stream",
     "text": [
      "\n"
     ]
    }
   ],
   "source": [
    "#file_names_test = ['root://eospublic.cern.ch//eos/opendata/cms/datascience/HiggsToBBNtupleProducerTool/HiggsToBBNTuple_HiggsToBB_QCD_RunII_13TeV_MC/test/ntuple_merged_0.root']\n",
    "file_names_test = ['/teams/DSC180A_FA20_A00/b06particlephysics/test/ntuple_merged_0.root']\n",
    "\n",
    "test_dataset = GraphDataset('data', features, labels, spectators, n_events=1000, n_events_merge=1, \n",
    "                             file_names=file_names_test)\n",
    "test_dataset.process()"
   ]
  },
  {
   "cell_type": "code",
   "execution_count": 218,
   "metadata": {},
   "outputs": [],
   "source": [
    "test_loader = DataListLoader(test_dataset, batch_size=batch_size, pin_memory=True, shuffle=False)\n",
    "test_loader.collate_fn = collate\n",
    "\n",
    "test_samples = len(test_dataset)"
   ]
  },
  {
   "cell_type": "code",
   "execution_count": 219,
   "metadata": {},
   "outputs": [
    {
     "data": {
      "text/plain": [
       "59"
      ]
     },
     "execution_count": 219,
     "metadata": {},
     "output_type": "execute_result"
    }
   ],
   "source": [
    "len(test_loader)    # we have 59 batches in this test_loader (each batch contains 32 jets which i sthe batch_size)"
   ]
  },
  {
   "cell_type": "code",
   "execution_count": 221,
   "metadata": {},
   "outputs": [
    {
     "name": "stdout",
     "output_type": "stream",
     "text": [
      "Batch(batch=[840], edge_index=[2, 23038], u=[32, 2], x=[840, 48], y=[32, 6])\n"
     ]
    }
   ],
   "source": [
    "for data in test_loader:           # here we explore the first batch\n",
    "    print(data)\n",
    "    break"
   ]
  },
  {
   "cell_type": "markdown",
   "metadata": {},
   "source": [
    "### (2) Second evaluate the model on this test_data:"
   ]
  },
  {
   "cell_type": "code",
   "execution_count": 205,
   "metadata": {},
   "outputs": [
    {
     "data": {
      "application/vnd.jupyter.widget-view+json": {
       "model_id": "e7c130c7bff5400b8aaaf751e1d81cc8",
       "version_major": 2,
       "version_minor": 0
      },
      "text/plain": [
       "HBox(children=(HTML(value=''), FloatProgress(value=0.0, max=58.96875), HTML(value='')))"
      ]
     },
     "metadata": {},
     "output_type": "display_data"
    },
    {
     "name": "stdout",
     "output_type": "stream",
     "text": [
      "\n"
     ]
    }
   ],
   "source": [
    "model.eval()\n",
    "t = tqdm(enumerate(test_loader),total=test_samples/batch_size)\n",
    "y_test = []\n",
    "y_predict = []\n",
    "\n",
    "for i,data in t:\n",
    "    data = data.to(device)    \n",
    "    batch_output = model(data.x, data.edge_index, data.batch)    \n",
    "    y_predict.append(batch_output.detach().cpu().numpy())\n",
    "    y_test.append(data.y.cpu().numpy())\n",
    "y_test = np.concatenate(y_test)\n",
    "y_predict = np.concatenate(y_predict)"
   ]
  },
  {
   "cell_type": "code",
   "execution_count": 207,
   "metadata": {},
   "outputs": [
    {
     "data": {
      "text/plain": [
       "array([[0, 0, 0, 1, 0, 0],\n",
       "       [0, 0, 0, 0, 1, 0],\n",
       "       [0, 0, 0, 0, 1, 0],\n",
       "       ...,\n",
       "       [0, 0, 0, 0, 1, 0],\n",
       "       [0, 0, 0, 0, 0, 1],\n",
       "       [0, 0, 0, 0, 1, 0]])"
      ]
     },
     "execution_count": 207,
     "metadata": {},
     "output_type": "execute_result"
    }
   ],
   "source": [
    "# now we have a y_test that contains the true labels\n",
    "y_test"
   ]
  },
  {
   "cell_type": "code",
   "execution_count": 215,
   "metadata": {},
   "outputs": [
    {
     "data": {
      "text/plain": [
       "array([3, 4, 4, ..., 4, 5, 4])"
      ]
     },
     "execution_count": 215,
     "metadata": {},
     "output_type": "execute_result"
    }
   ],
   "source": [
    "# we can use argmax to revert the one-hot encoding of the true labels\n",
    "# basically this means that the first jet belongs to class 3..\n",
    "y_test.argmax(axis=1)"
   ]
  },
  {
   "cell_type": "code",
   "execution_count": 208,
   "metadata": {},
   "outputs": [
    {
     "data": {
      "text/plain": [
       "array([[-0.16073933,  0.13967931, -0.05637594, -0.26110923,  0.09360116,\n",
       "        -0.08390138],\n",
       "       [ 0.00630602,  0.04594064,  0.01417975, -0.22526091,  0.19266799,\n",
       "        -0.12609339],\n",
       "       [-0.06628589,  0.06763759, -0.01627022, -0.23577288,  0.2181609 ,\n",
       "         0.06596199],\n",
       "       ...,\n",
       "       [ 0.08078144,  0.07980403, -0.08952011, -0.1477966 ,  0.442808  ,\n",
       "         0.00333523],\n",
       "       [-0.1024546 ,  0.12404112, -0.04385897, -0.30231336,  0.04750644,\n",
       "        -0.07582051],\n",
       "       [-0.11447003,  0.09216312, -0.10105793, -0.38287902, -0.03569249,\n",
       "        -0.13651052]], dtype=float32)"
      ]
     },
     "execution_count": 208,
     "metadata": {},
     "output_type": "execute_result"
    }
   ],
   "source": [
    "# we also have a y_predict that contains the predicted labels\n",
    "y_predict"
   ]
  },
  {
   "cell_type": "code",
   "execution_count": 214,
   "metadata": {},
   "outputs": [
    {
     "data": {
      "text/plain": [
       "array([1, 4, 4, ..., 4, 1, 1])"
      ]
     },
     "execution_count": 214,
     "metadata": {},
     "output_type": "execute_result"
    }
   ],
   "source": [
    "y_predict.argmax(axis=1)"
   ]
  },
  {
   "cell_type": "code",
   "execution_count": 226,
   "metadata": {},
   "outputs": [
    {
     "data": {
      "text/plain": [
       "1170"
      ]
     },
     "execution_count": 226,
     "metadata": {},
     "output_type": "execute_result"
    }
   ],
   "source": [
    "# We now have 2 arrays that we can compare.. for example we can check how many jets were correctly labeled via:\n",
    "correct_preds = ( y_predict.argmax(axis=1) == y_test.argmax(axis=1) ).sum()\n",
    "print(correct_preds)"
   ]
  },
  {
   "cell_type": "code",
   "execution_count": 229,
   "metadata": {},
   "outputs": [
    {
     "name": "stdout",
     "output_type": "stream",
     "text": [
      "1887\n"
     ]
    },
    {
     "data": {
      "text/plain": [
       "0.6200317965023847"
      ]
     },
     "execution_count": 229,
     "metadata": {},
     "output_type": "execute_result"
    }
   ],
   "source": [
    "# we can check the total number of jets to get some sort of accuracy:\n",
    "total_preds = y_predict.argmax(axis=1).shape[0]\n",
    "print(total_preds)\n",
    "\n",
    "accuracy = correct_preds/total_preds\n",
    "accuracy"
   ]
  },
  {
   "cell_type": "markdown",
   "metadata": {},
   "source": [
    "# Making Plots"
   ]
  },
  {
   "cell_type": "code",
   "execution_count": 230,
   "metadata": {},
   "outputs": [
    {
     "data": {
      "image/png": "[encoded data removed]",
      "text/plain": [
       "<Figure size 432x288 with 1 Axes>"
      ]
     },
     "metadata": {
      "needs_background": "light"
     },
     "output_type": "display_data"
    }
   ],
   "source": [
    "from sklearn.metrics import roc_curve, auc\n",
    "import matplotlib.pyplot as plt\n",
    "# create ROC curves\n",
    "fpr_gnn, tpr_gnn, threshold_gnn = roc_curve(y_test[:,1], y_predict[:,1])\n",
    "    \n",
    "# plot ROC curves\n",
    "plt.figure()\n",
    "plt.plot(tpr_gnn, fpr_gnn, lw=2.5, label=\"GNN, AUC = {:.1f}%\".format(auc(fpr_gnn,tpr_gnn)*100))\n",
    "plt.xlabel(r'True positive rate')\n",
    "plt.ylabel(r'False positive rate')\n",
    "plt.semilogy()\n",
    "plt.ylim(0.001,1)\n",
    "plt.xlim(0,1)\n",
    "plt.plot([0, 1], [0.001, 1], lw=2.5, label='Random, AUC = 50.0%')\n",
    "plt.grid(True)\n",
    "plt.legend(loc='upper left')\n",
    "plt.show()"
   ]
  },
  {
   "cell_type": "code",
   "execution_count": 233,
   "metadata": {},
   "outputs": [],
   "source": [
    "import uproot\n",
    "n_events=1000\n",
    "raw_path = '/teams/DSC180A_FA20_A00/b06particlephysics/train/ntuple_merged_10.root'\n",
    "root_file = uproot.open(raw_path)\n",
    "\n",
    "tree = root_file['deepntuplizer/tree']\n",
    "\n",
    "feature_array = tree.arrays(branches=features,\n",
    "                                        entrystop=n_events,\n",
    "                                        namedecode='utf-8')\n",
    "\n",
    "label_array_all = tree.arrays(branches=labels,\n",
    "                                          entrystop=n_events,\n",
    "                                          namedecode='utf-8')\n",
    "            \n",
    "n_samples = label_array_all[labels[0]].shape[0]"
   ]
  },
  {
   "cell_type": "code",
   "execution_count": 234,
   "metadata": {},
   "outputs": [],
   "source": [
    "import matplotlib.pyplot as plt\n",
    "from sklearn.metrics import roc_curve, auc\n",
    "\n",
    "#used in src/model/baseline_model.py, src/model/model.py, and src/analysis/compare.py\n",
    "def visualize(name, test=False):\n",
    "    \n",
    "    if test:\n",
    "        vis_path = 'test/'\n",
    "    else:\n",
    "        vis_path = 'data/visualizations/'\n",
    "    \n",
    "    plt.savefig(vis_path + name)\n",
    "    \n",
    "    return None\n",
    "\n",
    "#used in src/model/baseline_model.py, src/model/model.py\n",
    "def visualize_loss(model):\n",
    "    \n",
    "    plt.figure()\n",
    "    plt.plot(model.history['loss'],label='Loss')\n",
    "    plt.plot(model.history['val_loss'],label='Val. loss')\n",
    "    plt.xlabel('Epoch')\n",
    "    plt.legend()\n",
    "    plt.show()\n",
    "    \n",
    "    return None\n",
    "\n",
    "#used in src/analysis/compare.py\n",
    "def visualize_roc_compare(fpr, tpr):\n",
    "    \n",
    "    plt.figure()\n",
    "    plt.plot(fpr, tpr, lw=2.5, label=\"AUC = {:.1f}%\".format(auc(fpr,tpr)*100))\n",
    "    plt.xlabel(r'False positive rate')\n",
    "    plt.ylabel(r'True positive rate')\n",
    "    plt.ylim(0,1)\n",
    "    plt.xlim(0,1)\n",
    "    plt.plot([0, 1], [0, 1], lw=2.5, label='Random, AUC = 50.0%')\n",
    "    plt.grid(True)\n",
    "    plt.legend(loc='upper left')\n",
    "    plt.show()\n",
    "    \n",
    "    return None"
   ]
  },
  {
   "cell_type": "code",
   "execution_count": 235,
   "metadata": {},
   "outputs": [
    {
     "data": {
      "image/png": "[encoded data removed]",
      "text/plain": [
       "<Figure size 432x288 with 1 Axes>"
      ]
     },
     "metadata": {
      "needs_background": "light"
     },
     "output_type": "display_data"
    }
   ],
   "source": [
    "visualize_roc_compare(fpr_gnn, tpr_gnn)"
   ]
  },
  {
   "cell_type": "code",
   "execution_count": 236,
   "metadata": {},
   "outputs": [],
   "source": [
    "fpr_gnn, tpr_gnn, threshold_gnn = roc_curve(y_test[:,1], y_predict[:,1])"
   ]
  },
  {
   "cell_type": "code",
   "execution_count": 248,
   "metadata": {},
   "outputs": [
    {
     "name": "stdout",
     "output_type": "stream",
     "text": [
      "Bad format: [Data(edge_index=[2, 930], u=[1, 2], x=[31, 48], y=[1, 6])]\n",
      "Good format: Batch(batch=[840], edge_index=[2, 23038], u=[32, 2], x=[840, 48], y=[32, 6])\n"
     ]
    }
   ],
   "source": [
    "# let's check what is a \"t\" in the following:\n",
    "for t1 in test_dataset:\n",
    "    break\n",
    "    \n",
    "print('Bad format:', t1)\n",
    "\n",
    "# this is not the correct format to feed to the model\n",
    "# REMEMBER: we always feed a loader as follows:\n",
    "\n",
    "for t2 in test_loader:\n",
    "    break\n",
    "\n",
    "print('Good format:', t2)            # this is the format our model accepts\n",
    "                                    # a forward pass (prediction) is simply: model(t.x , t.edge_index, t.batch)"
   ]
  },
  {
   "cell_type": "code",
   "execution_count": 252,
   "metadata": {},
   "outputs": [
    {
     "ename": "NameError",
     "evalue": "name 'predict_array_dnn' is not defined",
     "output_type": "error",
     "traceback": [
      "\u001b[0;31m\u001b[0m",
      "\u001b[0;31mNameError\u001b[0mTraceback (most recent call last)",
      "\u001b[0;32m<ipython-input-252-498fa9307027>\u001b[0m in \u001b[0;36m<module>\u001b[0;34m\u001b[0m\n\u001b[1;32m      8\u001b[0m \u001b[0;34m\u001b[0m\u001b[0m\n\u001b[1;32m      9\u001b[0m \u001b[0;34m\u001b[0m\u001b[0m\n\u001b[0;32m---> 10\u001b[0;31m \u001b[0mpredict_array_dnn\u001b[0m \u001b[0;34m=\u001b[0m \u001b[0mnp\u001b[0m\u001b[0;34m.\u001b[0m\u001b[0mconcatenate\u001b[0m\u001b[0;34m(\u001b[0m\u001b[0mpredict_array_dnn\u001b[0m\u001b[0;34m,\u001b[0m\u001b[0maxis\u001b[0m\u001b[0;34m=\u001b[0m\u001b[0;36m0\u001b[0m\u001b[0;34m)\u001b[0m\u001b[0;34m\u001b[0m\u001b[0;34m\u001b[0m\u001b[0m\n\u001b[0m\u001b[1;32m     11\u001b[0m \u001b[0mpredict_array_cnn\u001b[0m \u001b[0;34m=\u001b[0m \u001b[0mnp\u001b[0m\u001b[0;34m.\u001b[0m\u001b[0mconcatenate\u001b[0m\u001b[0;34m(\u001b[0m\u001b[0mpredict_array_cnn\u001b[0m\u001b[0;34m,\u001b[0m\u001b[0maxis\u001b[0m\u001b[0;34m=\u001b[0m\u001b[0;36m0\u001b[0m\u001b[0;34m)\u001b[0m\u001b[0;34m\u001b[0m\u001b[0;34m\u001b[0m\u001b[0m\n\u001b[1;32m     12\u001b[0m \u001b[0mlabel_array_test\u001b[0m \u001b[0;34m=\u001b[0m \u001b[0mnp\u001b[0m\u001b[0;34m.\u001b[0m\u001b[0mconcatenate\u001b[0m\u001b[0;34m(\u001b[0m\u001b[0mlabel_array_test\u001b[0m\u001b[0;34m,\u001b[0m\u001b[0maxis\u001b[0m\u001b[0;34m=\u001b[0m\u001b[0;36m0\u001b[0m\u001b[0;34m)\u001b[0m\u001b[0;34m\u001b[0m\u001b[0;34m\u001b[0m\u001b[0m\n",
      "\u001b[0;31mNameError\u001b[0m: name 'predict_array_dnn' is not defined"
     ]
    }
   ],
   "source": [
    "# COMPARING MODELS\n",
    "predict_array_gnn = []\n",
    "label_array_test = []\n",
    "\n",
    "for t in test_loader:\n",
    "    label_array_test.append(t)\n",
    "    predict_array_gnn.append(model(t.x , t.edge_index, t.batch))\n",
    "\n",
    "\n",
    "predict_array_dnn = np.concatenate(predict_array_dnn,axis=0)\n",
    "predict_array_cnn = np.concatenate(predict_array_cnn,axis=0)\n",
    "label_array_test = np.concatenate(label_array_test,axis=0)\n",
    "\n",
    "fpr_dnn = []\n",
    "tpr_dnn = []\n",
    "fpr_cnn = []\n",
    "tpr_cnn = []\n",
    "nlabels = 6\n",
    "\n",
    "# create ROC curves for each class\n",
    "for i in range(nlabels):\n",
    "    t_fpr_d, t_tpr_d, thresh_d = roc_curve(label_array_test[:,i], predict_array_gnn[:,i])\n",
    "        \n",
    "    #appending\n",
    "    fpr_dnn.append(t_fpr_d)\n",
    "    tpr_dnn.append(t_tpr_d)\n",
    "    fpr_cnn.append(t_fpr_c)\n",
    "    tpr_cnn.append(t_tpr_c)\n",
    "\n",
    "# plot ROC curves\n",
    "visualize_roc(fpr_cnn, tpr_cnn, fpr_dnn, tpr_dnn, True)"
   ]
  },
  {
   "cell_type": "code",
   "execution_count": 12,
   "metadata": {},
   "outputs": [
    {
     "name": "stdout",
     "output_type": "stream",
     "text": [
      "Defaulting to user installation because normal site-packages is not writeable\n",
      "Collecting e3nn\n",
      "  Downloading e3nn-0.1.1-py3-none-any.whl (89 kB)\n",
      "\u001b[K     |████████████████████████████████| 89 kB 8.0 MB/s  eta 0:00:01\n",
      "\u001b[?25hRequirement already satisfied: torch-cluster in /opt/conda/envs/ml-latest/lib/python3.8/site-packages (from e3nn) (1.5.7)\n",
      "Collecting lie-learn\n",
      "  Downloading lie_learn-0.0.1.post1-cp38-cp38-manylinux1_x86_64.whl (16.6 MB)\n",
      "\u001b[K     |████████████████████████████████| 16.6 MB 14.4 MB/s eta 0:00:01\n",
      "\u001b[?25hRequirement already satisfied: torch-geometric in /opt/conda/envs/ml-latest/lib/python3.8/site-packages (from e3nn) (1.6.1)\n",
      "Requirement already satisfied: torch>=1.4.0 in /opt/conda/envs/ml-latest/lib/python3.8/site-packages (from e3nn) (1.5.0+cu101)\n",
      "Requirement already satisfied: torch-scatter in /opt/conda/envs/ml-latest/lib/python3.8/site-packages (from e3nn) (2.0.5)\n",
      "Requirement already satisfied: ase in /opt/conda/envs/ml-latest/lib/python3.8/site-packages (from e3nn) (3.20.1)\n",
      "Requirement already satisfied: torch-sparse in /opt/conda/envs/ml-latest/lib/python3.8/site-packages (from e3nn) (0.6.7)\n",
      "Collecting sympy\n",
      "  Downloading sympy-1.7.1-py3-none-any.whl (5.9 MB)\n",
      "\u001b[K     |████████████████████████████████| 5.9 MB 19.5 MB/s eta 0:00:01\n",
      "\u001b[?25hRequirement already satisfied: scipy in /opt/conda/envs/ml-latest/lib/python3.8/site-packages (from e3nn) (1.5.4)\n",
      "Requirement already satisfied: torch-spline-conv in /opt/conda/envs/ml-latest/lib/python3.8/site-packages (from e3nn) (1.2.0)\n",
      "Collecting pymatgen\n",
      "  Downloading pymatgen-2020.12.31.tar.gz (2.8 MB)\n",
      "\u001b[K     |████████████████████████████████| 2.8 MB 69.6 MB/s eta 0:00:01\n",
      "\u001b[?25hRequirement already satisfied: numpy; python_version >= \"3.0\" in /opt/conda/envs/ml-latest/lib/python3.8/site-packages (from lie-learn->e3nn) (1.19.4)\n",
      "Requirement already satisfied: requests in /opt/conda/envs/ml-latest/lib/python3.8/site-packages (from lie-learn->e3nn) (2.25.0)\n",
      "Requirement already satisfied: networkx in /opt/conda/envs/ml-latest/lib/python3.8/site-packages (from torch-geometric->e3nn) (2.5)\n",
      "Requirement already satisfied: pandas in /opt/conda/envs/ml-latest/lib/python3.8/site-packages (from torch-geometric->e3nn) (1.1.4)\n",
      "Requirement already satisfied: scikit-learn in /opt/conda/envs/ml-latest/lib/python3.8/site-packages (from torch-geometric->e3nn) (0.23.2)\n",
      "Requirement already satisfied: h5py in /opt/conda/envs/ml-latest/lib/python3.8/site-packages (from torch-geometric->e3nn) (2.10.0)\n",
      "Requirement already satisfied: googledrivedownloader in /opt/conda/envs/ml-latest/lib/python3.8/site-packages (from torch-geometric->e3nn) (0.4)\n",
      "Requirement already satisfied: numba in /opt/conda/envs/ml-latest/lib/python3.8/site-packages (from torch-geometric->e3nn) (0.51.2)\n",
      "Requirement already satisfied: rdflib in /opt/conda/envs/ml-latest/lib/python3.8/site-packages (from torch-geometric->e3nn) (5.0.0)\n",
      "Requirement already satisfied: tqdm in /opt/conda/envs/ml-latest/lib/python3.8/site-packages (from torch-geometric->e3nn) (4.51.0)\n",
      "Requirement already satisfied: jinja2 in /opt/conda/envs/ml-latest/lib/python3.8/site-packages (from torch-geometric->e3nn) (2.11.2)\n",
      "Requirement already satisfied: future in /opt/conda/envs/ml-latest/lib/python3.8/site-packages (from torch>=1.4.0->e3nn) (0.18.2)\n",
      "Requirement already satisfied: matplotlib>=2.0.0 in /opt/conda/envs/ml-latest/lib/python3.8/site-packages (from ase->e3nn) (3.3.3)\n",
      "Collecting mpmath>=0.19\n",
      "  Downloading mpmath-1.1.0.tar.gz (512 kB)\n",
      "\u001b[K     |████████████████████████████████| 512 kB 31.9 MB/s eta 0:00:01\n",
      "\u001b[?25hCollecting ruamel.yaml>=0.15.6\n",
      "  Downloading ruamel.yaml-0.16.12-py2.py3-none-any.whl (111 kB)\n",
      "\u001b[K     |████████████████████████████████| 111 kB 60.4 MB/s eta 0:00:01\n",
      "\u001b[?25hCollecting monty>=3.0.2\n",
      "  Downloading monty-4.0.2-py3-none-any.whl (62 kB)\n",
      "\u001b[K     |████████████████████████████████| 62 kB 2.5 MB/s  eta 0:00:01\n",
      "\u001b[?25hCollecting tabulate\n",
      "  Downloading tabulate-0.8.7-py3-none-any.whl (24 kB)\n",
      "Collecting spglib>=1.9.9.44\n",
      "  Downloading spglib-1.16.0-cp38-cp38-manylinux2010_x86_64.whl (295 kB)\n",
      "\u001b[K     |████████████████████████████████| 295 kB 69.6 MB/s eta 0:00:01\n",
      "\u001b[?25hCollecting palettable>=3.1.1\n",
      "  Downloading palettable-3.3.0-py2.py3-none-any.whl (111 kB)\n",
      "\u001b[K     |████████████████████████████████| 111 kB 82.8 MB/s eta 0:00:01\n",
      "\u001b[?25hRequirement already satisfied: plotly>=4.5.0 in /opt/conda/envs/ml-latest/lib/python3.8/site-packages (from pymatgen->e3nn) (4.12.0)\n",
      "Collecting uncertainties>=3.1.4\n",
      "  Downloading uncertainties-3.1.5-py2.py3-none-any.whl (246 kB)\n",
      "\u001b[K     |████████████████████████████████| 246 kB 79.6 MB/s eta 0:00:01\n",
      "\u001b[?25hRequirement already satisfied: urllib3<1.27,>=1.21.1 in /opt/conda/envs/ml-latest/lib/python3.8/site-packages (from requests->lie-learn->e3nn) (1.26.2)\n",
      "Requirement already satisfied: certifi>=2017.4.17 in /opt/conda/envs/ml-latest/lib/python3.8/site-packages (from requests->lie-learn->e3nn) (2020.11.8)\n",
      "Requirement already satisfied: idna<3,>=2.5 in /opt/conda/envs/ml-latest/lib/python3.8/site-packages (from requests->lie-learn->e3nn) (2.10)\n",
      "Requirement already satisfied: chardet<4,>=3.0.2 in /opt/conda/envs/ml-latest/lib/python3.8/site-packages (from requests->lie-learn->e3nn) (3.0.4)\n",
      "Requirement already satisfied: decorator>=4.3.0 in /opt/conda/envs/ml-latest/lib/python3.8/site-packages (from networkx->torch-geometric->e3nn) (4.4.2)\n",
      "Requirement already satisfied: python-dateutil>=2.7.3 in /opt/conda/envs/ml-latest/lib/python3.8/site-packages (from pandas->torch-geometric->e3nn) (2.8.1)\n",
      "Requirement already satisfied: pytz>=2017.2 in /opt/conda/envs/ml-latest/lib/python3.8/site-packages (from pandas->torch-geometric->e3nn) (2020.4)\n",
      "Requirement already satisfied: joblib>=0.11 in /opt/conda/envs/ml-latest/lib/python3.8/site-packages (from scikit-learn->torch-geometric->e3nn) (0.17.0)\n",
      "Requirement already satisfied: threadpoolctl>=2.0.0 in /opt/conda/envs/ml-latest/lib/python3.8/site-packages (from scikit-learn->torch-geometric->e3nn) (2.1.0)\n",
      "Requirement already satisfied: six in /opt/conda/envs/ml-latest/lib/python3.8/site-packages (from h5py->torch-geometric->e3nn) (1.15.0)\n",
      "Requirement already satisfied: llvmlite<0.35,>=0.34.0.dev0 in /opt/conda/envs/ml-latest/lib/python3.8/site-packages (from numba->torch-geometric->e3nn) (0.34.0)\n",
      "Requirement already satisfied: setuptools in /opt/conda/envs/ml-latest/lib/python3.8/site-packages (from numba->torch-geometric->e3nn) (49.6.0.post20201009)\n",
      "Requirement already satisfied: pyparsing in /opt/conda/envs/ml-latest/lib/python3.8/site-packages (from rdflib->torch-geometric->e3nn) (2.4.7)\n",
      "Requirement already satisfied: isodate in /opt/conda/envs/ml-latest/lib/python3.8/site-packages (from rdflib->torch-geometric->e3nn) (0.6.0)\n",
      "Requirement already satisfied: MarkupSafe>=0.23 in /opt/conda/envs/ml-latest/lib/python3.8/site-packages (from jinja2->torch-geometric->e3nn) (1.1.1)\n",
      "Requirement already satisfied: cycler>=0.10 in /opt/conda/envs/ml-latest/lib/python3.8/site-packages (from matplotlib>=2.0.0->ase->e3nn) (0.10.0)\n",
      "Requirement already satisfied: kiwisolver>=1.0.1 in /opt/conda/envs/ml-latest/lib/python3.8/site-packages (from matplotlib>=2.0.0->ase->e3nn) (1.3.1)\n",
      "Requirement already satisfied: pillow>=6.2.0 in /opt/conda/envs/ml-latest/lib/python3.8/site-packages (from matplotlib>=2.0.0->ase->e3nn) (8.0.1)\n",
      "Collecting ruamel.yaml.clib>=0.1.2; platform_python_implementation == \"CPython\" and python_version < \"3.9\"\n",
      "  Downloading ruamel.yaml.clib-0.2.2-cp38-cp38-manylinux1_x86_64.whl (578 kB)\n",
      "\u001b[K     |████████████████████████████████| 578 kB 73.5 MB/s eta 0:00:01\n",
      "\u001b[?25hRequirement already satisfied: retrying>=1.3.3 in /opt/conda/envs/ml-latest/lib/python3.8/site-packages (from plotly>=4.5.0->pymatgen->e3nn) (1.3.3)\n",
      "Building wheels for collected packages: pymatgen, mpmath\n",
      "  Building wheel for pymatgen (setup.py) ... \u001b[?25ldone\n",
      "\u001b[?25h  Created wheel for pymatgen: filename=pymatgen-2020.12.31-cp38-cp38-linux_x86_64.whl size=4182894 sha256=9bee9829d2e36cf830a24ec266383f62ec379a5ddb7d162f54d31307a6ef285b\n",
      "  Stored in directory: /tmp/xdg-cache/pip/wheels/07/b2/5e/f3fcc3b7f8fe0c966015a1deb4a0e22de3d373c93140ae20ee\n",
      "  Building wheel for mpmath (setup.py) ... \u001b[?25ldone\n",
      "\u001b[?25h  Created wheel for mpmath: filename=mpmath-1.1.0-py3-none-any.whl size=532239 sha256=4a4426fe8a3fc5fd1235c596fff7e6ed6f93f6cfc6b7ea4032abc9e409f1a1eb\n",
      "  Stored in directory: /tmp/xdg-cache/pip/wheels/29/2c/1c/d2e4580cde2743b0aef389e936ac21a2db92921ddbca53faa1\n",
      "Successfully built pymatgen mpmath\n"
     ]
    },
    {
     "name": "stdout",
     "output_type": "stream",
     "text": [
      "Installing collected packages: lie-learn, mpmath, sympy, ruamel.yaml.clib, ruamel.yaml, monty, tabulate, spglib, palettable, uncertainties, pymatgen, e3nn\n",
      "\u001b[33m  WARNING: The script isympy is installed in '/datasets/home/73/273/djc035/.local/bin' which is not on PATH.\n",
      "  Consider adding this directory to PATH or, if you prefer to suppress this warning, use --no-warn-script-location.\u001b[0m\n",
      "\u001b[33m  WARNING: The script tabulate is installed in '/datasets/home/73/273/djc035/.local/bin' which is not on PATH.\n",
      "  Consider adding this directory to PATH or, if you prefer to suppress this warning, use --no-warn-script-location.\u001b[0m\n",
      "\u001b[33m  WARNING: The scripts feff_plot_cross_section, feff_plot_dos, gaussian_analyzer, get_environment and pmg are installed in '/datasets/home/73/273/djc035/.local/bin' which is not on PATH.\n",
      "  Consider adding this directory to PATH or, if you prefer to suppress this warning, use --no-warn-script-location.\u001b[0m\n",
      "Successfully installed e3nn-0.1.1 lie-learn-0.0.1.post1 monty-4.0.2 mpmath-1.1.0 palettable-3.3.0 pymatgen-2020.12.31 ruamel.yaml-0.16.12 ruamel.yaml.clib-0.2.2 spglib-1.16.0 sympy-1.7.1 tabulate-0.8.7 uncertainties-3.1.5\n",
      "Note: you may need to restart the kernel to use updated packages.\n"
     ]
    }
   ],
   "source": [
    "pip install e3nn"
   ]
  },
  {
   "cell_type": "code",
   "execution_count": null,
   "metadata": {},
   "outputs": [],
   "source": []
  }
 ],
 "metadata": {
  "kernelspec": {
   "display_name": "ml-latest",
   "language": "python",
   "name": "ml-latest"
  },
  "language_info": {
   "codemirror_mode": {
    "name": "ipython",
    "version": 3
   },
   "file_extension": ".py",
   "mimetype": "text/x-python",
   "name": "python",
   "nbconvert_exporter": "python",
   "pygments_lexer": "ipython3",
   "version": "3.8.6"
  }
 },
 "nbformat": 4,
 "nbformat_minor": 4
}
